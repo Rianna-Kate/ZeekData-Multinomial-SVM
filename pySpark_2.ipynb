{
  "nbformat": 4,
  "nbformat_minor": 0,
  "metadata": {
    "colab": {
      "provenance": []
    },
    "kernelspec": {
      "name": "python3",
      "display_name": "Python 3"
    },
    "language_info": {
      "name": "python"
    }
  },
  "cells": [
    {
      "cell_type": "markdown",
      "source": [
        "\n",
        "\n",
        "This implementation performs the following changes:\n",
        "1. Changes any instances of \"null\" or NaN for numbers to the mean value.\n",
        "2. Changes any null values for strings to 'null'\n",
        "3. Uses a StringIndexer on the following features to conver them to numerical data. The feature name is changed to +'_indexed' when using this method. a. 'service' b. 'conn_state' c. 'history' d. 'proto' e. 'dest_ip_zeek' f. 'community_id' g. 'uid' h. 'src_ip_zeek'\n",
        "4. The original feature columns (not _indexed) are removed.\n",
        "5. Uses a StringIndexer on the class labels, 'label_tactic', to convert them to numerical data.\n",
        "6. Uses a VectorAssembler on the new features.\n",
        "7. Trains the SVM model using OVR."
      ],
      "metadata": {
        "id": "FW3tf7tmBFdX"
      }
    },
    {
      "cell_type": "code",
      "execution_count": null,
      "metadata": {
        "id": "4mFmyTA9BDCz"
      },
      "outputs": [],
      "source": [
        "!pip install pyspark"
      ]
    },
    {
      "cell_type": "code",
      "source": [
        "# PySpark Imports\n",
        "import pyspark\n",
        "from pyspark.sql import SparkSession\n",
        "\n",
        "# ML Classifier Imports\n",
        "from pyspark.ml.classification import LinearSVC\n",
        "from pyspark.ml.evaluation import MulticlassClassificationEvaluator\n",
        "from pyspark.ml.feature import VectorAssembler, StringIndexer\n",
        "from pyspark.ml.classification import OneVsRest\n",
        "from pyspark.ml import Pipeline\n",
        "from pyspark.ml.feature import StringIndexer, OneHotEncoder\n",
        "from pyspark.sql.functions import mean, col"
      ],
      "metadata": {
        "id": "f2aDKkm1CnSx"
      },
      "execution_count": 2,
      "outputs": []
    },
    {
      "cell_type": "code",
      "source": [
        "# Initialize Spark session\n",
        "spark = SparkSession.builder.appName(\"ce53\") \\\n",
        "    .master(\"local\") \\\n",
        "    .config(\"spark.driver.cores\", \"4\") \\\n",
        "    .config(\"spark.driver.memory\", \"5g\") \\\n",
        "    .config(\"spark.executor.memory\", \"5g\") \\\n",
        "    .config(\"spark.executor.cores\", \"4\") \\\n",
        "    .config(\"spark.dynamicAllocation.shuffleTracking.enabled\", \"true\") \\\n",
        "    .config(\"spark.dynamicAllocation.enabled\", \"true\") \\\n",
        "    .config(\"spark.dynamicAllocation.minExecutors\", \"2\") \\\n",
        "    .config(\"spark.dynamicAllocation.maxExecutors\", \"4\") \\\n",
        "    .config(\"spark.executor.instances\", \"2\") \\\n",
        ".getOrCreate()"
      ],
      "metadata": {
        "id": "lhELG0zyCsfo"
      },
      "execution_count": 4,
      "outputs": []
    },
    {
      "cell_type": "code",
      "source": [
        "# Get the parquet files (current example is 2 from the website)\n",
        "parquet_files = [\"/content/drive/MyDrive/School/Parquet/part-00000-7c2e9adb-5430-4792-a42b-10ff5bbd46e8-c000.snappy.parquet\", \"/content/drive/MyDrive/School/Parquet/part-00000-df678a79-4a73-452b-8e72-d624b2732f17-c000.snappy.parquet\"]\n",
        "\n",
        "# Read the parquet files into a dataframe\n",
        "df = spark.read.parquet(*parquet_files, inferSchema=True)"
      ],
      "metadata": {
        "id": "03tmSx8VCt-9"
      },
      "execution_count": 5,
      "outputs": []
    },
    {
      "cell_type": "code",
      "source": [
        "# print\n",
        "df.printSchema()"
      ],
      "metadata": {
        "id": "F9EWZom9Cv-G"
      },
      "execution_count": null,
      "outputs": []
    },
    {
      "cell_type": "code",
      "source": [
        "# Examine the unique values in the df\n",
        "for col in df.columns:\n",
        "  unique_values = df.select(col).distinct().collect()\n",
        "  print(f\"Unique values for column '{col}': {unique_values}\")"
      ],
      "metadata": {
        "id": "s4k-UaTyI9x5"
      },
      "execution_count": null,
      "outputs": []
    },
    {
      "cell_type": "code",
      "source": [
        "from pyspark.sql.functions import mean, col\n",
        "\n",
        "# List of numeric column names\n",
        "numeric_columns = ['resp_pkts', 'orig_ip_bytes', 'missed_bytes', 'duration', 'orig_pkts',\n",
        "                   'resp_ip_bytes', 'dest_port_zeek', 'orig_bytes', 'resp_bytes',\n",
        "                   'src_port_zeek', 'ts']\n",
        "\n",
        "# Calculate mean for each numeric column\n",
        "mean_values = df.select([mean(col(column)).alias(column) for column in numeric_columns]).collect()[0].asDict()\n",
        "\n",
        "# Replace null or NaN values with mean\n",
        "for column in numeric_columns:\n",
        "    mean_value = mean_values[column]\n",
        "    df = df.fillna({column: mean_value}, subset=[column])\n",
        "\n",
        "# Show updated DataFrame\n",
        "df.show()"
      ],
      "metadata": {
        "colab": {
          "base_uri": "https://localhost:8080/"
        },
        "id": "mRWfKxzPJEet",
        "outputId": "7294eed1-985b-4b74-ed8c-1e43f303fcf9"
      },
      "execution_count": 6,
      "outputs": [
        {
          "output_type": "stream",
          "name": "stdout",
          "text": [
            "+---------+-------+-------------+----------+------------+-----+--------------------+----------+---------------+---------+--------------------+-------------+--------------+----------+----------+--------------------+-------+----------+------------------+-------------+-------------------+--------------------+------------+\n",
            "|resp_pkts|service|orig_ip_bytes|local_resp|missed_bytes|proto|            duration|conn_state|   dest_ip_zeek|orig_pkts|        community_id|resp_ip_bytes|dest_port_zeek|orig_bytes|local_orig|            datetime|history|resp_bytes|               uid|src_port_zeek|                 ts|         src_ip_zeek|label_tactic|\n",
            "+---------+-------+-------------+----------+------------+-----+--------------------+----------+---------------+---------+--------------------+-------------+--------------+----------+----------+--------------------+-------+----------+------------------+-------------+-------------------+--------------------+------------+\n",
            "|  1689365|   NULL|    141906660|     false|           0| icmp|  1729902.2721018791|       OTH|     143.88.0.1|  1689365|1:L8d7Q/9CNOBVbhf...|    141906660|             0|  94604440|     false|2021-12-17 07:00:...|   NULL|  94604440|Caxllt2aEzXOEZnpii|            8|1.639746045896897E9|       143.88.255.50|        none|\n",
            "|        0|   NULL|    462247452|     false|           0| icmp|  1730390.7546720505|       OTH|  143.88.255.10|  4576716|1:IrLgQEMN3Jxld9D...|            0|             1| 334099404|     false|2021-12-17 07:00:...|   NULL|         0|CEx0rX1Yic8axI4sw1|            3|1.639746047630312E9|        143.88.255.1|        none|\n",
            "|        0|   NULL|     22008480|     false|           0| icmp|  1730410.2046380043|       OTH|        ff02::1|   229255|1:yBZ3xWqbIFuQFB4...|            0|           133|  11004240|     false|2021-12-17 07:00:...|   NULL|         0|Cpn5bT1QW9MPFXikn4|          134|1.639746045879347E9|fe80::250:56ff:fe...|        none|\n",
            "|        0|   NULL|     34970488|     false|           0| icmp|  1730410.6320278645|       OTH|       ff02::16|   460138|1:ogw3gR/knTC3m00...|            0|             0|   9202760|     false|2021-12-17 07:00:...|   NULL|         0|Ceo6B73UmSZVe8vsD4|          143|1.639746045888899E9|fe80::250:56ff:fe...|        none|\n",
            "|        0|   dhcp|     66459795|     false|           0|  udp|  1731503.8117160797|        S0|255.255.255.255|   202621|1:t9O1j0qj71O4wJM...|            0|            67|  60786407|     false|2021-12-17 07:01:...|      D|         0|CTCPKc2faq2rLYJA4f|           68|1.639746070260517E9|             0.0.0.0|        none|\n",
            "|  1623005|   NULL|    136332420|     false|           0| icmp|  1623031.7443728447|       OTH|  143.88.255.10|  1623005|1:Q47wYNJG7UBuJFD...|    136332420|             0|  90888280|     false|2021-12-17 07:00:...|   NULL|  90888280|CMByDX2CqiV12uaU1e|            8| 1.63974604604361E9|         143.88.1.50|        none|\n",
            "|  3246010|   NULL|    272664840|     false|           0| icmp|  1623031.7442588806|       OTH|  143.88.255.10|  3246010|1:0NOjmfanjS+uRbU...|    272664840|             0| 181776560|     false|2021-12-17 07:00:...|   NULL| 181776560|  C2QVUdzAYHYJdB45|            8|1.639746046043694E9|          143.88.0.2|        none|\n",
            "|        4|    dns|          316|     false|           0|  udp|   5.004426956176758|        SF|     143.88.1.1|        4|1:dFnGyQ/g+JEAT+b...|          160|            53|       204|     false|2021-12-17 10:59:...|     Dd|        48|ChF0ry3vBvyCtdRvP1|        50891|1.639760381591042E9|         143.88.1.51|        none|\n",
            "|        4|    dns|          268|     false|           0|  udp|   5.004410028457642|        SF|     143.88.1.1|        4|1:4MOwhZswdkZwQfE...|          160|            53|       156|     false|2021-12-17 10:59:...|     Dd|        48|CKtV783FxHSWYxnR4l|        45406|1.639760391599938E9|         143.88.1.51|        none|\n",
            "|        5|    dns|          355|     false|           0|  udp|4.141330718994140...|        SF|     143.88.1.1|        5|1:OT+73xYjncjiVJ3...|          200|            53|       215|     false|2021-12-17 11:00:...|     Dd|        60|Cn89nl2Gbdk6oymoa3|        50893|1.639760408396431E9|         143.88.1.53|        none|\n",
            "|        4|    dns|          316|     false|           0|  udp|   5.003570795059204|        SF|     143.88.1.1|        4|1:Aj50vPyEVFKpTWc...|          160|            53|       204|     false|2021-12-17 11:00:...|     Dd|        48| CPMwDFyUNE8wGbds3|        41214|1.639760401606434E9|         143.88.1.51|        none|\n",
            "|        0|    dns|          158|      true|           0|  udp|1.215934753417968...|        S0|      10.0.10.1|        2|1:+RD42TB35EQAE0T...|            0|            53|       102|     false|2021-12-17 11:00:...|      D|         0| CZ3Gu37N5ObVadTbe|        40828|1.639760416381049E9|       143.88.255.10|        none|\n",
            "|        0|    dns|          158|      true|           0|  udp| 1.71661376953125E-5|        S0|      10.0.10.1|        2|1:qbSqp1Z3OUA2FZX...|            0|            53|       102|     false|2021-12-17 11:00:...|      D|         0|CMIhpv4Ycd1HZcLOge|        58950|1.639760416380452E9|       143.88.255.10|        none|\n",
            "|        0|    dns|          134|      true|           0|  udp|4.053115844726562...|        S0|      10.0.10.1|        2|1:MOhHSkms847EGjO...|            0|            53|        78|     false|2021-12-17 11:00:...|      D|         0|CyijTp4EFXUUWS9ypd|        52985|1.639760416380218E9|       143.88.255.10|        none|\n",
            "|        0|    dns|          134|      true|           0|  udp|1.215934753417968...|        S0|      10.0.10.1|        2|1:Bu0gvHG6SCMPj6A...|            0|            53|        78|     false|2021-12-17 11:00:...|      D|         0|CVSwHb2AkswUoemdBg|        38989|1.639760416384656E9|       143.88.255.10|        none|\n",
            "|        0|    dns|          158|      true|           0|  udp|1.001358032226562...|        S0|      10.0.10.1|        2|1:ILIYV/ZhU6Gy2kB...|            0|            53|       102|     false|2021-12-17 11:00:...|      D|         0|CxYU724vNi3PHhjdYj|        58774|1.639760416384429E9|       143.88.255.10|        none|\n",
            "|        0|    dns|          158|      true|           0|  udp|8.821487426757812E-6|        S0|      10.0.10.1|        2|1:/VjQ2rjRjm/Gc+1...|            0|            53|       102|     false|2021-12-17 11:00:...|      D|         0|CWjOpe4XlrHpItNoM8|        38214|1.639760416384354E9|       143.88.255.10|        none|\n",
            "|        0|    dns|          134|      true|           0|  udp|1.001358032226562...|        S0|      10.0.10.1|        2|1:lM+oxWEWP0nWKPO...|            0|            53|        78|     false|2021-12-17 11:00:...|      D|         0| Cnq7Fz58xFIrkpW3g|        50409|1.639760416383714E9|       143.88.255.10|        none|\n",
            "|        0|    dns|          158|      true|           0|  udp|1.192092895507812...|        S0|      10.0.10.1|        2|1:+wbORfKyQOAPvVR...|            0|            53|       102|     false|2021-12-17 11:00:...|      D|         0|Ck6IC74beslt3glNil|        51074|1.639760416383002E9|       143.88.255.10|        none|\n",
            "|        0|    dns|          134|      true|           0|  udp|1.192092895507812...|        S0|      10.0.10.1|        2|1:KNPO+5W3tvHdDSt...|            0|            53|        78|     false|2021-12-17 11:00:...|      D|         0|Czsqq331tEC3Fud26d|        48412|1.639760416381855E9|       143.88.255.10|        none|\n",
            "+---------+-------+-------------+----------+------------+-----+--------------------+----------+---------------+---------+--------------------+-------------+--------------+----------+----------+--------------------+-------+----------+------------------+-------------+-------------------+--------------------+------------+\n",
            "only showing top 20 rows\n",
            "\n"
          ]
        }
      ]
    },
    {
      "cell_type": "code",
      "source": [
        "# Drop the datetime column\n",
        "df = df.drop(\"datetime\")\n",
        "\n",
        "# Define columns to index\n",
        "columns_to_index = ['service', 'conn_state', 'history', 'proto', 'dest_ip_zeek', 'community_id', 'uid', 'src_ip_zeek', 'label_tactic']\n",
        "\n",
        "# Impute null values with 'null' string\n",
        "for column in columns_to_index:\n",
        "    df = df.fillna('null', subset=[column])\n",
        "\n",
        "# Apply StringIndexer to each column\n",
        "indexers = [StringIndexer(inputCol=column, outputCol=column+\"_indexed\").fit(df) for column in columns_to_index]\n",
        "\n",
        "# Chain indexers together\n",
        "pipeline = Pipeline(stages=indexers)\n",
        "\n",
        "# Fit and transform the data\n",
        "df_indexed = pipeline.fit(df).transform(df)\n",
        "\n",
        "# Drop original columns\n",
        "df_indexed = df_indexed.drop(*columns_to_index)\n",
        "\n",
        "# Show the schema of the DataFrame\n",
        "df_indexed.show()"
      ],
      "metadata": {
        "colab": {
          "base_uri": "https://localhost:8080/"
        },
        "id": "JoVneK9OJ6rH",
        "outputId": "f3a9631f-ce37-400c-fcf8-cf387503078c"
      },
      "execution_count": 7,
      "outputs": [
        {
          "output_type": "stream",
          "name": "stdout",
          "text": [
            "+---------+-------------+----------+------------+--------------------+---------+-------------+--------------+----------+----------+----------+-------------+-------------------+---------------+------------------+---------------+-------------+--------------------+--------------------+-----------+-------------------+--------------------+\n",
            "|resp_pkts|orig_ip_bytes|local_resp|missed_bytes|            duration|orig_pkts|resp_ip_bytes|dest_port_zeek|orig_bytes|local_orig|resp_bytes|src_port_zeek|                 ts|service_indexed|conn_state_indexed|history_indexed|proto_indexed|dest_ip_zeek_indexed|community_id_indexed|uid_indexed|src_ip_zeek_indexed|label_tactic_indexed|\n",
            "+---------+-------------+----------+------------+--------------------+---------+-------------+--------------+----------+----------+----------+-------------+-------------------+---------------+------------------+---------------+-------------+--------------------+--------------------+-----------+-------------------+--------------------+\n",
            "|  1689365|    141906660|     false|           0|  1729902.2721018791|  1689365|    141906660|             0|  94604440|     false|  94604440|            8|1.639746045896897E9|            0.0|               6.0|            8.0|          2.0|               302.0|             71587.0|   159451.0|               19.0|                 1.0|\n",
            "|        0|    462247452|     false|           0|  1730390.7546720505|  4576716|            0|             1| 334099404|     false|         0|            3|1.639746047630312E9|            0.0|               6.0|            8.0|          2.0|               264.0|             82210.0|   246956.0|               14.0|                 1.0|\n",
            "|        0|     22008480|     false|           0|  1730410.2046380043|   229255|            0|           133|  11004240|     false|         0|          134|1.639746045879347E9|            0.0|               6.0|            8.0|          2.0|               304.0|             80752.0|   208549.0|               17.0|                 1.0|\n",
            "|        0|     34970488|     false|           0|  1730410.6320278645|   460138|            0|             0|   9202760|     false|         0|          143|1.639746045888899E9|            0.0|               6.0|            8.0|          2.0|               289.0|             78556.0|   172234.0|               18.0|                 1.0|\n",
            "|        0|     66459795|     false|           0|  1731503.8117160797|   202621|            0|            67|  60786407|     false|         0|           68|1.639746070260517E9|            4.0|               0.0|            2.0|          1.0|               303.0|             79588.0|   133457.0|               24.0|                 1.0|\n",
            "|  1623005|    136332420|     false|           0|  1623031.7443728447|  1623005|    136332420|             0|  90888280|     false|  90888280|            8| 1.63974604604361E9|            0.0|               6.0|            8.0|          2.0|               264.0|             72710.0|   110224.0|                8.0|                 1.0|\n",
            "|  3246010|    272664840|     false|           0|  1623031.7442588806|  3246010|    272664840|             0| 181776560|     false| 181776560|            8|1.639746046043694E9|            0.0|               6.0|            8.0|          2.0|               264.0|             66890.0|    44337.0|                6.0|                 1.0|\n",
            "|        4|          316|     false|           0|   5.004426956176758|        4|          160|            53|       204|     false|        48|        50891|1.639760381591042E9|            1.0|               2.0|            3.0|          1.0|                 7.0|             75814.0|   180279.0|                4.0|                 1.0|\n",
            "|        4|          268|     false|           0|   5.004410028457642|        4|          160|            53|       156|     false|        48|        45406|1.639760391599938E9|            1.0|               2.0|            3.0|          1.0|                 7.0|             67818.0|   105808.0|                4.0|                 1.0|\n",
            "|        5|          355|     false|           0|4.141330718994140...|        5|          200|            53|       215|     false|        60|        50893|1.639760408396431E9|            1.0|               2.0|            3.0|          1.0|                 7.0|             72361.0|   199648.0|                5.0|                 1.0|\n",
            "|        4|          316|     false|           0|   5.003570795059204|        4|          160|            53|       204|     false|        48|        41214|1.639760401606434E9|            1.0|               2.0|            3.0|          1.0|                 7.0|             62684.0|   250020.0|                4.0|                 1.0|\n",
            "|        0|          158|      true|           0|1.215934753417968...|        2|            0|            53|       102|     false|         0|        40828|1.639760416381049E9|            1.0|               0.0|            2.0|          1.0|                 6.0|             49857.0|   152992.0|                3.0|                 1.0|\n",
            "|        0|          158|      true|           0| 1.71661376953125E-5|        2|            0|            53|       102|     false|         0|        58950|1.639760416380452E9|            1.0|               0.0|            2.0|          1.0|                 6.0|             45382.0|   110565.0|                3.0|                 1.0|\n",
            "|        0|          134|      true|           0|4.053115844726562...|        2|            0|            53|        78|     false|         0|        52985|1.639760416380218E9|            1.0|               0.0|            2.0|          1.0|                 6.0|             58901.0|   238360.0|                3.0|                 1.0|\n",
            "|        0|          134|      true|           0|1.215934753417968...|        2|            0|            53|        78|     false|         0|        38989|1.639760416384656E9|            1.0|               0.0|            2.0|          1.0|                 6.0|             36185.0|   141062.0|                3.0|                 1.0|\n",
            "|        0|          158|      true|           0|1.001358032226562...|        2|            0|            53|       102|     false|         0|        58774|1.639760416384429E9|            1.0|               0.0|            2.0|          1.0|                 6.0|             42808.0|   234458.0|                3.0|                 1.0|\n",
            "|        0|          158|      true|           0|8.821487426757812E-6|        2|            0|            53|       102|     false|         0|        38214|1.639760416384354E9|            1.0|               0.0|            2.0|          1.0|                 6.0|             35155.0|   145258.0|                3.0|                 1.0|\n",
            "|        0|          134|      true|           0|1.001358032226562...|        2|            0|            53|        78|     false|         0|        50409|1.639760416383714E9|            1.0|               0.0|            2.0|          1.0|                 6.0|             40607.0|   202069.0|                3.0|                 1.0|\n",
            "|        0|          158|      true|           0|1.192092895507812...|        2|            0|            53|       102|     false|         0|        51074|1.639760416383002E9|            1.0|               0.0|            2.0|          1.0|                 6.0|             54230.0|   189789.0|                3.0|                 1.0|\n",
            "|        0|          134|      true|           0|1.192092895507812...|        2|            0|            53|        78|     false|         0|        48412|1.639760416381855E9|            1.0|               0.0|            2.0|          1.0|                 6.0|             58813.0|   242227.0|                3.0|                 1.0|\n",
            "+---------+-------------+----------+------------+--------------------+---------+-------------+--------------+----------+----------+----------+-------------+-------------------+---------------+------------------+---------------+-------------+--------------------+--------------------+-----------+-------------------+--------------------+\n",
            "only showing top 20 rows\n",
            "\n"
          ]
        }
      ]
    },
    {
      "cell_type": "code",
      "source": [
        "# Check for null values in each column\n",
        "for column in df_indexed.columns:\n",
        "    null_count = df_indexed.where(col(column).isNull()).count()\n",
        "    print(f\"Null count in column {column}: {null_count}\")"
      ],
      "metadata": {
        "id": "kTHV-Q0-QEAX"
      },
      "execution_count": null,
      "outputs": []
    },
    {
      "cell_type": "code",
      "source": [
        "# List of columns to assemble\n",
        "columns_to_assemble = df_indexed.columns\n",
        "\n",
        "# Remove the target column (label) if it's in the list\n",
        "columns_to_assemble.remove('label_tactic_indexed')\n",
        "\n",
        "# Create the VectorAssembler\n",
        "assembler = VectorAssembler(inputCols=columns_to_assemble, outputCol=\"features\")\n",
        "\n",
        "# Transform the DataFrame\n",
        "df_assembled = assembler.transform(df_indexed)\n",
        "\n",
        "# Select only the features and label columns\n",
        "df_assembled = df_assembled.select(\"features\", \"label_tactic_indexed\")\n",
        "\n",
        "# Show the schema of the DataFrame\n",
        "df_assembled.printSchema()"
      ],
      "metadata": {
        "colab": {
          "base_uri": "https://localhost:8080/"
        },
        "id": "_Sh9zrXHLSiN",
        "outputId": "82b9afc5-acf1-4f04-a8bb-f2aee55a2cec"
      },
      "execution_count": 8,
      "outputs": [
        {
          "output_type": "stream",
          "name": "stdout",
          "text": [
            "root\n",
            " |-- features: vector (nullable = true)\n",
            " |-- label_tactic_indexed: double (nullable = false)\n",
            "\n"
          ]
        }
      ]
    },
    {
      "cell_type": "code",
      "source": [
        "# Split the data into training and test sets\n",
        "train_data, test_data = df_assembled.randomSplit([0.8, 0.2], seed=1)\n",
        "\n",
        "# Create the SVM model\n",
        "svm = LinearSVC(labelCol=\"label_tactic_indexed\", featuresCol=\"features\", maxIter=10)\n",
        "\n",
        "# One Vs. Rest\n",
        "ovr = OneVsRest(classifier=svm, labelCol='label_tactic_indexed')\n",
        "\n",
        "# Fit the model\n",
        "svm_model = ovr.fit(train_data)\n",
        "\n",
        "# Make predictions\n",
        "predictions = svm_model.transform(test_data)\n",
        "\n",
        "# Evaluate the model\n",
        "evaluator = MulticlassClassificationEvaluator(labelCol=\"label_tactic_indexed\", metricName=\"accuracy\")\n",
        "accuracy = evaluator.evaluate(predictions)\n",
        "print(\"Accuracy:\", accuracy)"
      ],
      "metadata": {
        "colab": {
          "base_uri": "https://localhost:8080/"
        },
        "id": "vg3xhMidNI-w",
        "outputId": "25a549d3-3df9-4ff2-f5b9-7a3ae476e916"
      },
      "execution_count": 9,
      "outputs": [
        {
          "output_type": "stream",
          "name": "stdout",
          "text": [
            "Accuracy: 1.0\n"
          ]
        }
      ]
    },
    {
      "cell_type": "code",
      "source": [
        "spark.sparkContext.stop()"
      ],
      "metadata": {
        "id": "ciFnz0gyNKLG"
      },
      "execution_count": 10,
      "outputs": []
    }
  ]
}