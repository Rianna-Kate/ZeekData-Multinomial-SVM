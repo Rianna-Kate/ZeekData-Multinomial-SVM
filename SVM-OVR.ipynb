{
 "cells": [
  {
   "cell_type": "code",
   "execution_count": 275,
   "id": "d6553129-3496-4321-a895-9b0a3311cd4c",
   "metadata": {},
   "outputs": [],
   "source": [
    "#Basic Imports\n",
    "import pyspark\n",
    "from pyspark.sql import SparkSession\n",
    "\n",
    "#ML Classifier Imports\n",
    "from pyspark.ml.classification import LinearSVC\n",
    "from pyspark.ml.evaluation import MulticlassClassificationEvaluator\n",
    "from pyspark.ml.feature import VectorAssembler, StringIndexer\n",
    "from pyspark.ml.classification import OneVsRest\n",
    "from pyspark.ml import Pipeline"
   ]
  },
  {
   "cell_type": "code",
   "execution_count": 276,
   "id": "033bc9a6-1ff9-45d5-b6dd-eba9c159897d",
   "metadata": {},
   "outputs": [],
   "source": [
    "from pyspark.sql import SparkSession\n",
    "spark = SparkSession.builder.appName(\"rka7\") \\\n",
    "    .master(\"spark://192.168.1.2:7077\") \\\n",
    "    .config(\"spark.driver.cores\", \"5\") \\\n",
    "    .config(\"spark.driver.memory\", \"10g\") \\\n",
    "    .config(\"spark.executor.memory\", \"5g\") \\\n",
    "    .config(\"spark.executor.cores\", \"4\") \\\n",
    "    .config(\"spark.dynamicAllocation.shuffleTracking.enabled\", \"true\") \\\n",
    "    .config(\"spark.dynamicAllocation.enabled\", \"true\") \\\n",
    "    .config(\"spark.dynamicAllocation.minExecutors\", \"2\") \\\n",
    "    .config(\"spark.dynamicAllocation.maxExecutors\", \"4\") \\\n",
    "    .config(\"spark.executor.instances\", \"2\") \\\n",
    ".getOrCreate()"
   ]
  },
  {
   "cell_type": "code",
   "execution_count": 277,
   "id": "35a12f58-f3b0-408c-904a-87018b432259",
   "metadata": {},
   "outputs": [],
   "source": [
    "#spark.sparkContext.stop()\n",
    "#sc.stop()"
   ]
  },
  {
   "cell_type": "code",
   "execution_count": 278,
   "id": "981c6e27-62b5-4465-b80f-614fa56e266f",
   "metadata": {},
   "outputs": [],
   "source": [
    "#sc = spark.sparkContext\n",
    "#sc.getConf().getAll()"
   ]
  },
  {
   "cell_type": "code",
   "execution_count": 279,
   "id": "75273b9a-33d4-4f17-b57c-44ee1fdcfda9",
   "metadata": {},
   "outputs": [],
   "source": [
    "#Reading Parquet File\n",
    "df = spark.read.parquet(\"hdfs://192.168.1.2:9000/rplenkers/benign_data/2023-10-06/part-00000-535a7dcb-d865-4577-b2a0-9c620a67d250-c000.snappy.parquet\" \\\n",
    ", inferSchema=True)\n",
    "#df.printSchema()"
   ]
  },
  {
   "cell_type": "code",
   "execution_count": 289,
   "id": "c040e44c-73d6-4d87-978b-2cab3a5414d4",
   "metadata": {},
   "outputs": [],
   "source": [
    "#Lots of mistakes here that need to have binning/preprocessing to work since values can be nullable and lots of string variables\n",
    "#Transforming String type to numerical types\n",
    "\n",
    "#stringCols = ['community_id', 'conn_state', 'history', 'src_ip_zeek', 'dest_ip_zeek', 'proto', 'service', 'uid', 'datetime', 'label_technique']\n",
    "#indexer = StringIndexer(inputCol=stringCols, outputCol=\"indexed_column\")\n",
    "#df_transformed = indexer.fit(df).transform(df)\n",
    "\n",
    "#df = df.drop(\"assembled_features\")\n",
    "\n",
    "featureCols = ['src_port_zeek', 'dest_port_zeek', 'local_orig', 'local_resp', 'missed_bytes', 'orig_bytes', 'orig_ip_bytes', 'orig_pkts', 'resp_ip_bytes', \\\n",
    "               'resp_pkts', 'ts', 'label_binary']\n",
    "\n",
    "vectAssembler = VectorAssembler(inputCols=featureCols, outputCol=\"assembled_features\")\n",
    "df = vectAssembler.transform(df)\n",
    "#df.printSchema()"
   ]
  },
  {
   "cell_type": "code",
   "execution_count": 281,
   "id": "fd0e34ab-bf5a-4eb4-b4dd-f9dabd44ebd8",
   "metadata": {},
   "outputs": [],
   "source": [
    "svm = LinearSVC(maxIter=10, regParam=0.1)"
   ]
  },
  {
   "cell_type": "code",
   "execution_count": 282,
   "id": "de0799ac-ad7f-4409-88e9-6495d3e9c8b1",
   "metadata": {},
   "outputs": [],
   "source": [
    "ovr = OneVsRest(classifier=svm, labelCol='label_tactic')\n",
    "df = df.drop(\"assembled_features\")"
   ]
  },
  {
   "cell_type": "code",
   "execution_count": 283,
   "id": "4c769b4c-9b20-4136-bd54-eab0e3af61f8",
   "metadata": {},
   "outputs": [],
   "source": [
    "#For now due to errors, dropping rows w/null values\n",
    "df = df.dropna()"
   ]
  },
  {
   "cell_type": "code",
   "execution_count": 284,
   "id": "66981ef6-1c0b-42ce-965a-f60038c98d66",
   "metadata": {},
   "outputs": [],
   "source": [
    "#Splitting Test Data to 70-30 Split\n",
    "(training_data, test_data) = df.randomSplit([.8,.2], seed=1)"
   ]
  },
  {
   "cell_type": "code",
   "execution_count": 285,
   "id": "e713b21e-4011-4fc8-9072-a33554d41e48",
   "metadata": {},
   "outputs": [],
   "source": [
    "#Creating a Mulitple evaluators for weighted precision, weighted recall, accuracy, weighted FPR\n",
    "eval_precision = MulticlassClassificationEvaluator(metricName=\"weightedPrecision\")\n",
    "#eval_recall = MulticlassClassificationEvaluator(metricName=\"weightedRecall\")\n",
    "#eval_accuracy = MulticlassClassificationEvaluator(metricName=\"accuracy\")\n",
    "#eval_fpr = MulticlassClassificationEvaluator(metricName=\"weightedFalsePositiveRate\")\n"
   ]
  },
  {
   "cell_type": "code",
   "execution_count": 286,
   "id": "067f038b-d4b8-4071-99a4-c2f2ed2b6545",
   "metadata": {},
   "outputs": [],
   "source": [
    "#Creating Pipeline\n",
    "pipeline = Pipeline(stages=[vectAssembler, ovr])"
   ]
  },
  {
   "cell_type": "code",
   "execution_count": 288,
   "id": "b1b8b089-37e3-4a20-9a16-bdd761effc9a",
   "metadata": {},
   "outputs": [],
   "source": [
    "#Fitting model on training data\n",
    "model = pipeline.fit(training_data)"
   ]
  },
  {
   "cell_type": "code",
   "execution_count": null,
   "id": "04dc2451-31be-4940-a11a-e78f012c96a6",
   "metadata": {},
   "outputs": [],
   "source": [
    "#Making the model predicitons based off the training data\n",
    "predictions = model.transform(training_data)"
   ]
  },
  {
   "cell_type": "code",
   "execution_count": null,
   "id": "653113cf-1513-471b-b03d-f80fd3310cac",
   "metadata": {},
   "outputs": [],
   "source": [
    "#Evaluations\n",
    "precision = eval_precision.evaluate(predictions)\n",
    "print(f\"Precision: {precision}\")"
   ]
  }
 ],
 "metadata": {
  "kernelspec": {
   "display_name": "Python 3 (ipykernel)",
   "language": "python",
   "name": "python3"
  },
  "language_info": {
   "codemirror_mode": {
    "name": "ipython",
    "version": 3
   },
   "file_extension": ".py",
   "mimetype": "text/x-python",
   "name": "python",
   "nbconvert_exporter": "python",
   "pygments_lexer": "ipython3",
   "version": "3.10.12"
  }
 },
 "nbformat": 4,
 "nbformat_minor": 5
}
