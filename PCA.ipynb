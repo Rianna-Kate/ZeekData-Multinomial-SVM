{
 "cells": [
  {
   "cell_type": "code",
   "execution_count": 1,
   "id": "65f2d760-00be-45f8-87b2-935ffaddbfa7",
   "metadata": {},
   "outputs": [],
   "source": [
    "# PySpark Imports\n",
    "import pyspark\n",
    "from pyspark.sql import SparkSession\n",
    "\n",
    "# ML Classifier Imports\n",
    "from pyspark.ml.classification import LinearSVC\n",
    "from pyspark.ml.evaluation import MulticlassClassificationEvaluator\n",
    "from pyspark.ml.feature import VectorAssembler, StringIndexer, PCA\n",
    "from pyspark.ml.classification import OneVsRest\n",
    "from pyspark.ml import Pipeline\n",
    "from pyspark.ml.feature import StringIndexer, OneHotEncoder\n",
    "from pyspark.sql.functions import mean, col\n",
    "import time\n",
    "import os\n",
    "import sys"
   ]
  },
  {
   "cell_type": "code",
   "execution_count": 2,
   "id": "2032dd7f-c185-481c-8a56-6177c1c1526c",
   "metadata": {},
   "outputs": [],
   "source": [
    "os.environ['PYSPARK_PYTHON'] = sys.executable\n",
    "os.environ['PYSPARK_DRIVER_PYTHON'] = sys.executable"
   ]
  },
  {
   "cell_type": "code",
   "execution_count": 3,
   "id": "3747dbdd-f58c-4532-ba01-f4965ab5f73d",
   "metadata": {},
   "outputs": [],
   "source": [
    "# Initialize Spark session\n",
    "spark = SparkSession.builder.appName(\"ce53\") \\\n",
    "    .master(\"local[*]\") \\\n",
    "    .config(\"spark.driver.cores\", \"2\") \\\n",
    "    .config(\"spark.driver.memory\", \"6g\") \\\n",
    "    .config(\"spark.executor.memory\", \"6g\") \\\n",
    "    .config(\"spark.executor.cores\", \"2\") \\\n",
    "    .config(\"spark.dynamicAllocation.shuffleTracking.enabled\", \"true\") \\\n",
    "    .config(\"spark.dynamicAllocation.enabled\", \"true\") \\\n",
    "    .config(\"spark.dynamicAllocation.minExecutors\", \"2\") \\\n",
    "    .config(\"spark.dynamicAllocation.maxExecutors\", \"4\") \\\n",
    "    .config(\"spark.executor.instances\", \"2\") \\\n",
    "    .config(\"spark.kryoserializer.buffer.max\", \"2047m\") \\\n",
    "    .config(\"spark.sql.execution.pythonUDF.arrow.enabled\", \"false\") \\\n",
    "    .config(\"spark.executor.heartbeatInterval\",\"1199s\") \\\n",
    "    .config(\"spark.network.timeout\",\"1200s\") \\\n",
    ".getOrCreate()"
   ]
  },
  {
   "cell_type": "code",
   "execution_count": 4,
   "id": "0c3aada7-af58-4af3-a515-9532ab5462a3",
   "metadata": {},
   "outputs": [],
   "source": [
    "parquet_files = [\"Documents/School/Capstone Project/Local Running/Parquet/part-00000-df678a79-4a73-452b-8e72-d624b2732f17-c000.snappy.parquet\"]"
   ]
  },
  {
   "cell_type": "code",
   "execution_count": 5,
   "id": "efee329b-796b-4d2b-aede-0d984552f24b",
   "metadata": {},
   "outputs": [],
   "source": [
    "# Read the parquet files into a dataframe\n",
    "df = spark.read.parquet(*parquet_files, inferSchema=True)"
   ]
  },
  {
   "cell_type": "code",
   "execution_count": 6,
   "id": "12972d34-2323-4809-9917-0225623fc601",
   "metadata": {},
   "outputs": [
    {
     "name": "stdout",
     "output_type": "stream",
     "text": [
      "+--------------+-------+\n",
      "|  label_tactic|  count|\n",
      "+--------------+-------+\n",
      "|     Discovery|   2086|\n",
      "|Reconnaissance|9278720|\n",
      "+--------------+-------+\n",
      "\n"
     ]
    }
   ],
   "source": [
    "# Get unique labels and their counts\n",
    "label_counts = df.groupBy(\"label_tactic\").count().orderBy(\"label_tactic\")\n",
    "\n",
    "# Show the results\n",
    "label_counts.show()"
   ]
  },
  {
   "cell_type": "code",
   "execution_count": 7,
   "id": "6eb32238-3f44-4e05-bc24-f44e4cc0a290",
   "metadata": {},
   "outputs": [
    {
     "name": "stdout",
     "output_type": "stream",
     "text": [
      "+--------------+-------+\n",
      "|  label_tactic|  count|\n",
      "+--------------+-------+\n",
      "|     Discovery|   2086|\n",
      "|Reconnaissance|9278720|\n",
      "+--------------+-------+\n",
      "\n"
     ]
    }
   ],
   "source": [
    "# List of labels to drop\n",
    "labels_to_drop = [\"Defense Evasion\", \"Exfiltration\", \"Initial Access\", \"Lateral Movement\", \"Persistence\", \"Privilege Escalation\", \"Resource Development\", \"Credential Access\"]\n",
    "\n",
    "# Filter out the rows with labels to drop\n",
    "df = df.filter(~col(\"label_tactic\").isin(labels_to_drop))\n",
    "\n",
    "# Get unique labels and their counts after filtering\n",
    "filtered_label_counts = df.groupBy(\"label_tactic\").count().orderBy(\"label_tactic\")\n",
    "\n",
    "# Show the filtered results\n",
    "filtered_label_counts.show()\n"
   ]
  },
  {
   "cell_type": "code",
   "execution_count": 8,
   "id": "4deda91c-0abc-4a4c-b546-7160d1a622e7",
   "metadata": {},
   "outputs": [],
   "source": [
    "# List of numeric column names\n",
    "numeric_columns = ['resp_pkts', 'orig_ip_bytes', 'missed_bytes', 'duration', 'orig_pkts',\n",
    "                   'resp_ip_bytes', 'dest_port_zeek', 'orig_bytes', 'resp_bytes',\n",
    "                   'src_port_zeek', 'ts']\n",
    "\n",
    "# Calculate mean for each numeric column\n",
    "mean_values = df.select([mean(col(column)).alias(column) for column in numeric_columns]).collect()[0].asDict()\n",
    "\n",
    "# Replace null or NaN values with mean\n",
    "for column in numeric_columns:\n",
    "    mean_value = mean_values[column]\n",
    "    df = df.fillna({column: mean_value}, subset=[column])\n",
    "\n",
    "# Show updated DataFrame\n",
    "#df.show()"
   ]
  },
  {
   "cell_type": "code",
   "execution_count": 9,
   "id": "adfedb2b-8562-4bcb-82f6-649504b45733",
   "metadata": {},
   "outputs": [
    {
     "name": "stdout",
     "output_type": "stream",
     "text": [
      "+---------+-------------+----------+------------+--------------------+---------+-------------+--------------+----------+----------+----------+-------------+-------------------+---------------+------------------+---------------+-------------+--------------------+--------------------+-----------+-------------------+--------------------+----------------+\n",
      "|resp_pkts|orig_ip_bytes|local_resp|missed_bytes|            duration|orig_pkts|resp_ip_bytes|dest_port_zeek|orig_bytes|local_orig|resp_bytes|src_port_zeek|                 ts|service_indexed|conn_state_indexed|history_indexed|proto_indexed|dest_ip_zeek_indexed|community_id_indexed|uid_indexed|src_ip_zeek_indexed|label_tactic_indexed|datetime_indexed|\n",
      "+---------+-------------+----------+------------+--------------------+---------+-------------+--------------+----------+----------+----------+-------------+-------------------+---------------+------------------+---------------+-------------+--------------------+--------------------+-----------+-------------------+--------------------+----------------+\n",
      "|        4|          176|     false|           0|8.449554443359375E-4|        4|          160|           443|         0|     false|         0|        46411|1.644573146618264E9|            0.0|               1.0|            1.0|          0.0|                 6.0|             35801.0|    36833.0|                1.0|                 1.0|         10196.0|\n",
      "|        4|          176|     false|           0|7.770061492919922E-4|        4|          160|           443|         0|     false|         0|        46412|1.644573148620425E9|            0.0|               1.0|            1.0|          0.0|                 6.0|             36944.0|    36515.0|                1.0|                 1.0|         10197.0|\n",
      "|        1|          132|     false|           0|3.039836883544922E-4|        3|           40|         10002|         0|     false|         0|        38581|1.644573173522125E9|            0.0|               1.0|            1.0|          0.0|                 6.0|             35134.0|    37472.0|                1.0|                 1.0|         10142.0|\n",
      "|        1|          132|     false|           0|4.971027374267578E-4|        3|           40|          3945|         0|     false|         0|        38581|1.644573173522203E9|            0.0|               1.0|            1.0|          0.0|                 6.0|             35129.0|    37123.0|                1.0|                 1.0|         10142.0|\n",
      "|        1|          132|     false|           0|3.240108489990234...|        3|           40|          5907|         0|     false|         0|        38581|1.644573173537252E9|            0.0|               1.0|            1.0|          0.0|                 6.0|             35136.0|    38206.0|                1.0|                 1.0|         10145.0|\n",
      "|        1|          132|     false|           0|4.370212554931640...|        3|           40|          8001|         0|     false|         0|        38581|1.644573173517675E9|            0.0|               1.0|            1.0|          0.0|                 6.0|             35126.0|    38325.0|                1.0|                 1.0|         10147.0|\n",
      "|        1|          132|     false|           0|2.498626708984375E-4|        3|           40|          1999|         0|     false|         0|        38581|1.644573173526189E9|            0.0|               1.0|            1.0|          0.0|                 6.0|             35132.0|    37947.0|                1.0|                 1.0|         10144.0|\n",
      "|        1|          132|     false|           0|2.219676971435547E-4|        3|           40|          8443|         0|     false|         0|        38581|1.644573173540851E9|            0.0|               1.0|            1.0|          0.0|                 6.0|             35125.0|    36888.0|                1.0|                 1.0|         10180.0|\n",
      "|        0|           60|     false|           0|  0.3658094264617276|        1|            0|            22|    391026|     false|         7|        50345|1.644573174332953E9|            0.0|               7.0|            7.0|          0.0|                 6.0|             35115.0|    36583.0|                1.0|                 1.0|         10210.0|\n",
      "|        0|           60|     false|           0|  0.3658094264617276|        1|            0|            22|    391026|     false|         7|        50345|1.644573174483616E9|            0.0|               7.0|            7.0|          0.0|                 6.0|             35115.0|    37828.0|                1.0|                 1.0|         10215.0|\n",
      "|        0|           60|     false|           0|  0.3658094264617276|        1|            0|            22|    391026|     false|         7|        50345|1.644573174609174E9|            0.0|               7.0|            7.0|          0.0|                 6.0|             35115.0|    37638.0|                1.0|                 1.0|         10216.0|\n",
      "|        4|          400|     false|           0|0.001075029373168...|        8|          240|            22|         0|     false|         0|        50330|1.644573173681736E9|            0.0|               4.0|            6.0|          0.0|                 6.0|             35122.0|    37251.0|                1.0|                 1.0|         10200.0|\n",
      "|        4|          400|     false|           0|0.001029014587402...|        8|          240|            22|         0|     false|         0|        50331|1.644573173781874E9|            0.0|               4.0|            6.0|          0.0|                 6.0|             35123.0|    37577.0|                1.0|                 1.0|         10201.0|\n",
      "|        4|          400|     false|           0|0.001009941101074...|        8|          240|            22|         0|     false|         0|        50334|1.644573174082247E9|            0.0|               4.0|            6.0|          0.0|                 6.0|             35116.0|    36736.0|                1.0|                 1.0|         10204.0|\n",
      "|        4|          368|     false|           0|0.001183986663818...|        8|          208|            22|         0|     false|         0|        50342| 1.64457317428276E9|            0.0|               4.0|            6.0|          0.0|                 6.0|             35117.0|    37745.0|                1.0|                 1.0|         10208.0|\n",
      "|        4|          400|     false|           0|0.001179933547973...|        8|          240|            22|         0|     false|         0|        50332|1.644573173882008E9|            0.0|               4.0|            6.0|          0.0|                 6.0|             35119.0|    37026.0|                1.0|                 1.0|         10202.0|\n",
      "|        4|          384|     false|           0|0.001294136047363...|        8|          240|            22|         0|     false|         0|        50333|1.644573173982133E9|            0.0|               4.0|            6.0|          0.0|                 6.0|             35120.0|    38055.0|                1.0|                 1.0|         10203.0|\n",
      "|        4|          384|     false|           0|0.001039981842041...|        8|          224|            22|         0|     false|         0|        50335| 1.64457317418236E9|            0.0|               4.0|            6.0|          0.0|                 6.0|             35121.0|    37709.0|                1.0|                 1.0|         10205.0|\n",
      "|        4|          240|     false|           0|8.699893951416016E-4|        4|          160|             1|         0|     false|         0|        50347|1.644573174383182E9|            0.0|               1.0|            1.0|          0.0|                 6.0|             35118.0|    37159.0|                1.0|                 1.0|         10212.0|\n",
      "|        0|           60|     false|           0|  0.3658094264617276|        1|            0|            22|    391026|     false|         7|        50345|1.644573174734744E9|            0.0|               7.0|            7.0|          0.0|                 6.0|             35115.0|    36864.0|                1.0|                 1.0|         10217.0|\n",
      "+---------+-------------+----------+------------+--------------------+---------+-------------+--------------+----------+----------+----------+-------------+-------------------+---------------+------------------+---------------+-------------+--------------------+--------------------+-----------+-------------------+--------------------+----------------+\n",
      "only showing top 20 rows\n",
      "\n"
     ]
    }
   ],
   "source": [
    "# Drop the datetime column\n",
    "#df = df.drop(\"datetime\")\n",
    "df = df.withColumn(\"datetime\", col(\"datetime\").cast(\"string\"))\n",
    "\n",
    "# Define columns to index\n",
    "columns_to_index = ['service', 'conn_state', 'history', 'proto', 'dest_ip_zeek', 'community_id', 'uid', 'src_ip_zeek', 'label_tactic', 'datetime']\n",
    "\n",
    "# Impute null values with 'null' string\n",
    "for column in columns_to_index:\n",
    "    df = df.fillna('null', subset=[column])\n",
    "\n",
    "# Apply StringIndexer to each column\n",
    "indexers = [StringIndexer(inputCol=column, outputCol=column+\"_indexed\").fit(df) for column in columns_to_index]\n",
    "\n",
    "# Chain indexers together\n",
    "pipeline = Pipeline(stages=indexers)\n",
    "\n",
    "# Fit and transform the data\n",
    "df_indexed = pipeline.fit(df).transform(df)\n",
    "\n",
    "# Drop original columns\n",
    "df_indexed = df_indexed.drop(*columns_to_index)\n",
    "\n",
    "# Show the schema of the DataFrame\n",
    "df_indexed.show()"
   ]
  },
  {
   "cell_type": "code",
   "execution_count": 10,
   "id": "0c6e210d-4f98-4150-90cc-10015be125d6",
   "metadata": {},
   "outputs": [
    {
     "name": "stdout",
     "output_type": "stream",
     "text": [
      "root\n",
      " |-- features: vector (nullable = true)\n",
      " |-- label_tactic_indexed: double (nullable = false)\n",
      "\n"
     ]
    }
   ],
   "source": [
    "# List of columns to assemble\n",
    "columns_to_assemble = df_indexed.columns\n",
    "\n",
    "# Remove the target column (label) if it's in the list\n",
    "columns_to_assemble.remove('label_tactic_indexed')\n",
    "\n",
    "# Create the VectorAssembler\n",
    "assembler = VectorAssembler(inputCols=columns_to_assemble, outputCol=\"features\")\n",
    "\n",
    "# Transform the DataFrame\n",
    "df_assembled = assembler.transform(df_indexed)\n",
    "\n",
    "# Select only the features and label columns\n",
    "df_assembled = df_assembled.select(\"features\", \"label_tactic_indexed\")\n",
    "\n",
    "# Show the schema of the DataFrame\n",
    "df_assembled.printSchema()"
   ]
  },
  {
   "cell_type": "code",
   "execution_count": 11,
   "id": "cf12ad78-05cf-44a6-b898-1669195df083",
   "metadata": {},
   "outputs": [
    {
     "name": "stdout",
     "output_type": "stream",
     "text": [
      "Unique classes: [0.0, 1.0]\n",
      "+--------------------+-------+\n",
      "|label_tactic_indexed|  count|\n",
      "+--------------------+-------+\n",
      "|                 0.0|9278720|\n",
      "|                 1.0|   2086|\n",
      "+--------------------+-------+\n",
      "\n"
     ]
    }
   ],
   "source": [
    "# Get the distinct values of the 'label_tactic_indexed' column\n",
    "distinct_classes = df_assembled.select(\"label_tactic_indexed\").distinct().collect()\n",
    "\n",
    "# Convert the result to a list of unique classes\n",
    "unique_classes = [row['label_tactic_indexed'] for row in distinct_classes]\n",
    "\n",
    "# Print the unique classes\n",
    "print(\"Unique classes:\", unique_classes)\n",
    "\n",
    "# Group by the 'label_tactic_indexed' column and count the occurrences of each class\n",
    "class_counts = df_assembled.groupBy(\"label_tactic_indexed\").count()\n",
    "\n",
    "# Show the class counts\n",
    "class_counts.show()"
   ]
  },
  {
   "cell_type": "code",
   "execution_count": 12,
   "id": "8868496d-51c3-4d70-86c1-efc8f3fa012c",
   "metadata": {},
   "outputs": [
    {
     "name": "stdout",
     "output_type": "stream",
     "text": [
      "root\n",
      " |-- features_normalized: vector (nullable = true)\n",
      " |-- label_tactic_indexed: double (nullable = false)\n",
      "\n"
     ]
    }
   ],
   "source": [
    "#Standardize data\n",
    "from pyspark.ml.feature import StandardScaler\n",
    "\n",
    "scaler = StandardScaler(inputCol=\"features\", outputCol=\"features_normalized\", withMean=True, withStd=True)\n",
    "scaler_model = scaler.fit(df_assembled)\n",
    "df_normalized = scaler_model.transform(df_assembled)\n",
    "df_normalized = df_normalized.select(\"features_normalized\", \"label_tactic_indexed\")\n",
    "df_normalized.printSchema()"
   ]
  },
  {
   "cell_type": "code",
   "execution_count": 13,
   "id": "276bf85d-9ef9-4c00-84b7-374c8a9721df",
   "metadata": {},
   "outputs": [
    {
     "name": "stdout",
     "output_type": "stream",
     "text": [
      "Execution time: 240.96038269996643 seconds\n"
     ]
    }
   ],
   "source": [
    "# Split the data into training and test sets\n",
    "train_data, test_data = df_normalized.randomSplit([0.7, 0.3], seed=42)\n",
    "\n",
    "# Define the PCA model\n",
    "pca = PCA(k=3, inputCol=\"features_normalized\", outputCol=\"pca_features\")\n",
    "\n",
    "# Fit the PCA model\n",
    "start_time = time.time()\n",
    "\n",
    "pca_model = pca.fit(train_data)\n",
    "\n",
    "end_time = time.time()\n",
    "execution_time = end_time - start_time\n",
    "print(\"Execution time:\", execution_time, \"seconds\")\n",
    "\n",
    "# Apply PCA transformation to the assembled DataFrame\n",
    "train_pca = pca_model.transform(train_data)\n",
    "test_pca = pca_model.transform(test_data)"
   ]
  },
  {
   "cell_type": "code",
   "execution_count": 14,
   "id": "11e58d48-3276-48eb-ac52-190efb16f56a",
   "metadata": {},
   "outputs": [
    {
     "name": "stdout",
     "output_type": "stream",
     "text": [
      "+--------------------+--------------------+\n",
      "|label_tactic_indexed|            features|\n",
      "+--------------------+--------------------+\n",
      "|                 0.0|[-3.9801512862646...|\n",
      "|                 0.0|[-3.9801512862646...|\n",
      "|                 0.0|[-3.9801512862646...|\n",
      "|                 0.0|[-3.9801512862646...|\n",
      "|                 0.0|[-3.9801512862646...|\n",
      "|                 0.0|[-3.9801512862646...|\n",
      "|                 0.0|[-3.9801512862646...|\n",
      "|                 0.0|[-3.9801512862646...|\n",
      "|                 0.0|[-3.9801512862646...|\n",
      "|                 0.0|[-3.9801512862646...|\n",
      "|                 0.0|[-3.9801512862646...|\n",
      "|                 0.0|[-3.9801512862646...|\n",
      "|                 0.0|[-3.9801512862646...|\n",
      "|                 0.0|[-3.9801512862646...|\n",
      "|                 0.0|[-3.9801512862646...|\n",
      "|                 0.0|[-3.9801512862646...|\n",
      "|                 0.0|[-3.9801512862646...|\n",
      "|                 0.0|[-3.9801512862646...|\n",
      "|                 0.0|[-3.9801512862646...|\n",
      "|                 0.0|[-3.9801512862646...|\n",
      "+--------------------+--------------------+\n",
      "only showing top 20 rows\n",
      "\n"
     ]
    }
   ],
   "source": [
    "# Drop the normalized column\n",
    "train_pca = train_pca.drop(\"features_normalized\")\n",
    "\n",
    "# Rename the pca_features column to features\n",
    "train_pca = train_pca.withColumnRenamed(\"pca_features\", \"features\")\n",
    "\n",
    "# Verify the changes\n",
    "train_pca.show()"
   ]
  },
  {
   "cell_type": "code",
   "execution_count": 15,
   "id": "9af35de4-580a-4359-8714-e0fa32714f06",
   "metadata": {},
   "outputs": [
    {
     "name": "stdout",
     "output_type": "stream",
     "text": [
      "+--------------------+--------------------+\n",
      "|label_tactic_indexed|            features|\n",
      "+--------------------+--------------------+\n",
      "|                 0.0|[-3.9801512862646...|\n",
      "|                 0.0|[-3.9801512862646...|\n",
      "|                 0.0|[-3.9801512862646...|\n",
      "|                 0.0|[-3.9801512862646...|\n",
      "|                 0.0|[-3.9801512862646...|\n",
      "|                 0.0|[-3.9801512862646...|\n",
      "|                 0.0|[-3.9801512862646...|\n",
      "|                 0.0|[-3.9801512862646...|\n",
      "|                 0.0|[-3.9801512862646...|\n",
      "|                 0.0|[-3.9801512862646...|\n",
      "|                 0.0|[-3.9801512862646...|\n",
      "|                 0.0|[-3.9801512862646...|\n",
      "|                 0.0|[-3.9801512862646...|\n",
      "|                 0.0|[-3.9801512862646...|\n",
      "|                 0.0|[-3.9801512862646...|\n",
      "|                 0.0|[-3.9801512862646...|\n",
      "|                 0.0|[-3.9801512862646...|\n",
      "|                 0.0|[-3.9801512862646...|\n",
      "|                 0.0|[-3.9801512862646...|\n",
      "|                 0.0|[-3.9801512862646...|\n",
      "+--------------------+--------------------+\n",
      "only showing top 20 rows\n",
      "\n"
     ]
    }
   ],
   "source": [
    "# Drop the normalized column\n",
    "test_pca = test_pca.drop(\"features_normalized\")\n",
    "\n",
    "# Rename the pca_features column to features\n",
    "test_pca = test_pca.withColumnRenamed(\"pca_features\", \"features\")\n",
    "\n",
    "# Verify the changes\n",
    "test_pca.show()"
   ]
  },
  {
   "cell_type": "code",
   "execution_count": 16,
   "id": "be149e90-729e-47fa-b7a2-184355229588",
   "metadata": {},
   "outputs": [
    {
     "name": "stdout",
     "output_type": "stream",
     "text": [
      "Execution time: 263.77560234069824 seconds\n"
     ]
    }
   ],
   "source": [
    "# Create the SVM model\n",
    "\n",
    "#featuresCol: str = ‘features’, labelCol: str = ‘label_bin’,\n",
    "#predictionCol: str = ‘prediction’, maxIter: int = 100, regParam:\n",
    "#float = 0.0, tol: float = 1 \u000210􀀀6, rawPredictionCol: str =\n",
    "#‘rawPrediction’, fitIntercept: bool = True, standardization: bool\n",
    "#= True, threshold: float = 0.0, weightCol: Optional[str] = None,\n",
    "#aggregationDepth: int = 2, maxBlockSizeInMB: float = 0.0\n",
    "#svm = LinearSVC(labelCol=\"label_tactic_indexed\", featuresCol=\"features\", predictionCol='prediction', maxIter=10, regParam=0.0, tol=.000001, fitIntercept=True, standardization=True, threshold=0.0, weightCol=None, aggregationDepth=2, maxBlockSizeinMB=0.0)\n",
    "svm = LinearSVC(labelCol=\"label_tactic_indexed\", featuresCol=\"features\", maxIter=1)\n",
    "\n",
    "# One Vs. Rest\n",
    "ovr = OneVsRest(classifier=svm, labelCol='label_tactic_indexed')\n",
    "\n",
    "# Fit the model\n",
    "start_time = time.time()\n",
    "\n",
    "svm_model = ovr.fit(train_pca)\n",
    "\n",
    "end_time = time.time()\n",
    "execution_time = end_time - start_time\n",
    "print(\"Execution time:\", execution_time, \"seconds\")"
   ]
  },
  {
   "cell_type": "code",
   "execution_count": 17,
   "id": "566bf907-8b1c-4a87-8000-114668829e6e",
   "metadata": {},
   "outputs": [
    {
     "name": "stdout",
     "output_type": "stream",
     "text": [
      "predictionCol : prediction\n",
      "featuresCol : features\n",
      "labelCol : label_tactic_indexed\n",
      "rawPredictionCol : rawPrediction\n",
      "classifier : LinearSVC_6d51a083cdf2\n"
     ]
    }
   ],
   "source": [
    "# Get the param map\n",
    "param_map = svm_model.extractParamMap()\n",
    "\n",
    "# Print the param map\n",
    "for param, value in param_map.items():\n",
    "    print(param.name, \":\", value)"
   ]
  },
  {
   "cell_type": "code",
   "execution_count": 18,
   "id": "577e59ad-7fac-47fb-a965-bcf7360935f1",
   "metadata": {},
   "outputs": [
    {
     "name": "stdout",
     "output_type": "stream",
     "text": [
      "Execution time: 0.23307490348815918 seconds\n"
     ]
    }
   ],
   "source": [
    "# Make predictions\n",
    "start_time = time.time()\n",
    "\n",
    "predictions = svm_model.transform(test_pca)\n",
    "\n",
    "end_time = time.time()\n",
    "execution_time = end_time - start_time\n",
    "print(\"Execution time:\", execution_time, \"seconds\")"
   ]
  },
  {
   "cell_type": "code",
   "execution_count": 19,
   "id": "d4151a68-d217-4418-968e-24b8b365fa0e",
   "metadata": {},
   "outputs": [
    {
     "ename": "PythonException",
     "evalue": "\n  An exception was thrown from the Python worker. Please see the stack trace below.\nTraceback (most recent call last):\n  File \"c:\\users\\eller\\appdata\\local\\programs\\python\\python39\\lib\\socket.py\", line 707, in readinto\n    raise\nsocket.timeout: timed out\n",
     "output_type": "error",
     "traceback": [
      "\u001b[1;31m---------------------------------------------------------------------------\u001b[0m",
      "\u001b[1;31mPythonException\u001b[0m                           Traceback (most recent call last)",
      "Cell \u001b[1;32mIn[19], line 4\u001b[0m\n\u001b[0;32m      1\u001b[0m \u001b[38;5;66;03m# Evaluate the model\u001b[39;00m\n\u001b[0;32m      2\u001b[0m \u001b[38;5;66;03m# Calculate accuracy\u001b[39;00m\n\u001b[0;32m      3\u001b[0m evaluator_accuracy \u001b[38;5;241m=\u001b[39m MulticlassClassificationEvaluator(labelCol\u001b[38;5;241m=\u001b[39m\u001b[38;5;124m\"\u001b[39m\u001b[38;5;124mlabel_tactic_indexed\u001b[39m\u001b[38;5;124m\"\u001b[39m, metricName\u001b[38;5;241m=\u001b[39m\u001b[38;5;124m\"\u001b[39m\u001b[38;5;124maccuracy\u001b[39m\u001b[38;5;124m\"\u001b[39m)\n\u001b[1;32m----> 4\u001b[0m accuracy \u001b[38;5;241m=\u001b[39m \u001b[43mevaluator_accuracy\u001b[49m\u001b[38;5;241;43m.\u001b[39;49m\u001b[43mevaluate\u001b[49m\u001b[43m(\u001b[49m\u001b[43mpredictions\u001b[49m\u001b[43m)\u001b[49m\n\u001b[0;32m      6\u001b[0m \u001b[38;5;66;03m# Calculate precision\u001b[39;00m\n\u001b[0;32m      7\u001b[0m evaluator_precision \u001b[38;5;241m=\u001b[39m MulticlassClassificationEvaluator(labelCol\u001b[38;5;241m=\u001b[39m\u001b[38;5;124m\"\u001b[39m\u001b[38;5;124mlabel_tactic_indexed\u001b[39m\u001b[38;5;124m\"\u001b[39m, metricName\u001b[38;5;241m=\u001b[39m\u001b[38;5;124m\"\u001b[39m\u001b[38;5;124mweightedPrecision\u001b[39m\u001b[38;5;124m\"\u001b[39m)\n",
      "File \u001b[1;32mc:\\users\\eller\\appdata\\local\\programs\\python\\python39\\lib\\site-packages\\pyspark\\ml\\evaluation.py:111\u001b[0m, in \u001b[0;36mEvaluator.evaluate\u001b[1;34m(self, dataset, params)\u001b[0m\n\u001b[0;32m    109\u001b[0m         \u001b[38;5;28;01mreturn\u001b[39;00m \u001b[38;5;28mself\u001b[39m\u001b[38;5;241m.\u001b[39mcopy(params)\u001b[38;5;241m.\u001b[39m_evaluate(dataset)\n\u001b[0;32m    110\u001b[0m     \u001b[38;5;28;01melse\u001b[39;00m:\n\u001b[1;32m--> 111\u001b[0m         \u001b[38;5;28;01mreturn\u001b[39;00m \u001b[38;5;28;43mself\u001b[39;49m\u001b[38;5;241;43m.\u001b[39;49m\u001b[43m_evaluate\u001b[49m\u001b[43m(\u001b[49m\u001b[43mdataset\u001b[49m\u001b[43m)\u001b[49m\n\u001b[0;32m    112\u001b[0m \u001b[38;5;28;01melse\u001b[39;00m:\n\u001b[0;32m    113\u001b[0m     \u001b[38;5;28;01mraise\u001b[39;00m \u001b[38;5;167;01mTypeError\u001b[39;00m(\u001b[38;5;124m\"\u001b[39m\u001b[38;5;124mParams must be a param map but got \u001b[39m\u001b[38;5;132;01m%s\u001b[39;00m\u001b[38;5;124m.\u001b[39m\u001b[38;5;124m\"\u001b[39m \u001b[38;5;241m%\u001b[39m \u001b[38;5;28mtype\u001b[39m(params))\n",
      "File \u001b[1;32mc:\\users\\eller\\appdata\\local\\programs\\python\\python39\\lib\\site-packages\\pyspark\\ml\\evaluation.py:148\u001b[0m, in \u001b[0;36mJavaEvaluator._evaluate\u001b[1;34m(self, dataset)\u001b[0m\n\u001b[0;32m    146\u001b[0m \u001b[38;5;28mself\u001b[39m\u001b[38;5;241m.\u001b[39m_transfer_params_to_java()\n\u001b[0;32m    147\u001b[0m \u001b[38;5;28;01massert\u001b[39;00m \u001b[38;5;28mself\u001b[39m\u001b[38;5;241m.\u001b[39m_java_obj \u001b[38;5;129;01mis\u001b[39;00m \u001b[38;5;129;01mnot\u001b[39;00m \u001b[38;5;28;01mNone\u001b[39;00m\n\u001b[1;32m--> 148\u001b[0m \u001b[38;5;28;01mreturn\u001b[39;00m \u001b[38;5;28;43mself\u001b[39;49m\u001b[38;5;241;43m.\u001b[39;49m\u001b[43m_java_obj\u001b[49m\u001b[38;5;241;43m.\u001b[39;49m\u001b[43mevaluate\u001b[49m\u001b[43m(\u001b[49m\u001b[43mdataset\u001b[49m\u001b[38;5;241;43m.\u001b[39;49m\u001b[43m_jdf\u001b[49m\u001b[43m)\u001b[49m\n",
      "File \u001b[1;32mc:\\users\\eller\\appdata\\local\\programs\\python\\python39\\lib\\site-packages\\py4j\\java_gateway.py:1321\u001b[0m, in \u001b[0;36mJavaMember.__call__\u001b[1;34m(self, *args)\u001b[0m\n\u001b[0;32m   1315\u001b[0m command \u001b[38;5;241m=\u001b[39m proto\u001b[38;5;241m.\u001b[39mCALL_COMMAND_NAME \u001b[38;5;241m+\u001b[39m\\\n\u001b[0;32m   1316\u001b[0m     \u001b[38;5;28mself\u001b[39m\u001b[38;5;241m.\u001b[39mcommand_header \u001b[38;5;241m+\u001b[39m\\\n\u001b[0;32m   1317\u001b[0m     args_command \u001b[38;5;241m+\u001b[39m\\\n\u001b[0;32m   1318\u001b[0m     proto\u001b[38;5;241m.\u001b[39mEND_COMMAND_PART\n\u001b[0;32m   1320\u001b[0m answer \u001b[38;5;241m=\u001b[39m \u001b[38;5;28mself\u001b[39m\u001b[38;5;241m.\u001b[39mgateway_client\u001b[38;5;241m.\u001b[39msend_command(command)\n\u001b[1;32m-> 1321\u001b[0m return_value \u001b[38;5;241m=\u001b[39m \u001b[43mget_return_value\u001b[49m\u001b[43m(\u001b[49m\n\u001b[0;32m   1322\u001b[0m \u001b[43m    \u001b[49m\u001b[43manswer\u001b[49m\u001b[43m,\u001b[49m\u001b[43m \u001b[49m\u001b[38;5;28;43mself\u001b[39;49m\u001b[38;5;241;43m.\u001b[39;49m\u001b[43mgateway_client\u001b[49m\u001b[43m,\u001b[49m\u001b[43m \u001b[49m\u001b[38;5;28;43mself\u001b[39;49m\u001b[38;5;241;43m.\u001b[39;49m\u001b[43mtarget_id\u001b[49m\u001b[43m,\u001b[49m\u001b[43m \u001b[49m\u001b[38;5;28;43mself\u001b[39;49m\u001b[38;5;241;43m.\u001b[39;49m\u001b[43mname\u001b[49m\u001b[43m)\u001b[49m\n\u001b[0;32m   1324\u001b[0m \u001b[38;5;28;01mfor\u001b[39;00m temp_arg \u001b[38;5;129;01min\u001b[39;00m temp_args:\n\u001b[0;32m   1325\u001b[0m     temp_arg\u001b[38;5;241m.\u001b[39m_detach()\n",
      "File \u001b[1;32mc:\\users\\eller\\appdata\\local\\programs\\python\\python39\\lib\\site-packages\\pyspark\\sql\\utils.py:196\u001b[0m, in \u001b[0;36mcapture_sql_exception.<locals>.deco\u001b[1;34m(*a, **kw)\u001b[0m\n\u001b[0;32m    192\u001b[0m converted \u001b[38;5;241m=\u001b[39m convert_exception(e\u001b[38;5;241m.\u001b[39mjava_exception)\n\u001b[0;32m    193\u001b[0m \u001b[38;5;28;01mif\u001b[39;00m \u001b[38;5;129;01mnot\u001b[39;00m \u001b[38;5;28misinstance\u001b[39m(converted, UnknownException):\n\u001b[0;32m    194\u001b[0m     \u001b[38;5;66;03m# Hide where the exception came from that shows a non-Pythonic\u001b[39;00m\n\u001b[0;32m    195\u001b[0m     \u001b[38;5;66;03m# JVM exception message.\u001b[39;00m\n\u001b[1;32m--> 196\u001b[0m     \u001b[38;5;28;01mraise\u001b[39;00m converted \u001b[38;5;28;01mfrom\u001b[39;00m \u001b[38;5;28;01mNone\u001b[39;00m\n\u001b[0;32m    197\u001b[0m \u001b[38;5;28;01melse\u001b[39;00m:\n\u001b[0;32m    198\u001b[0m     \u001b[38;5;28;01mraise\u001b[39;00m\n",
      "\u001b[1;31mPythonException\u001b[0m: \n  An exception was thrown from the Python worker. Please see the stack trace below.\nTraceback (most recent call last):\n  File \"c:\\users\\eller\\appdata\\local\\programs\\python\\python39\\lib\\socket.py\", line 707, in readinto\n    raise\nsocket.timeout: timed out\n"
     ]
    }
   ],
   "source": [
    "# Evaluate the model\n",
    "# Calculate accuracy\n",
    "evaluator_accuracy = MulticlassClassificationEvaluator(labelCol=\"label_tactic_indexed\", metricName=\"accuracy\")\n",
    "accuracy = evaluator_accuracy.evaluate(predictions)\n",
    "\n",
    "# Calculate precision\n",
    "evaluator_precision = MulticlassClassificationEvaluator(labelCol=\"label_tactic_indexed\", metricName=\"weightedPrecision\")\n",
    "precision = evaluator_precision.evaluate(predictions)\n",
    "\n",
    "# Calculate recall\n",
    "evaluator_recall = MulticlassClassificationEvaluator(labelCol=\"label_tactic_indexed\", metricName=\"weightedRecall\")\n",
    "recall = evaluator_recall.evaluate(predictions)\n",
    "\n",
    "# Calculate F1-score\n",
    "evaluator_f1 = MulticlassClassificationEvaluator(labelCol=\"label_tactic_indexed\", metricName=\"f1\")\n",
    "f1_score = evaluator_f1.evaluate(predictions)\n",
    "\n",
    "print(\"Accuracy:\", accuracy)\n",
    "print(\"Precision:\", precision)\n",
    "print(\"Recall:\", recall)\n",
    "print(\"F1-Score:\", f1_score)"
   ]
  },
  {
   "cell_type": "code",
   "execution_count": 32,
   "id": "d90a6a51-490d-4a2b-934b-446db7be2314",
   "metadata": {},
   "outputs": [
    {
     "name": "stdout",
     "output_type": "stream",
     "text": [
      "Python Version: 3.9.0 (tags/v3.9.0:9cf6752, Oct  5 2020, 15:34:40) [MSC v.1927 64 bit (AMD64)]\n",
      "PySpark Version: 3.3.1\n",
      "Java version: 1.8.0_401\n"
     ]
    }
   ],
   "source": [
    "# Check Python version\n",
    "import sys\n",
    "print(\"Python Version:\", sys.version)\n",
    "\n",
    "# Check PySpark version\n",
    "import pyspark\n",
    "print(\"PySpark Version:\", pyspark.__version__)\n",
    "\n",
    "import subprocess\n",
    "\n",
    "def get_java_version():\n",
    "    try:\n",
    "        output = subprocess.check_output(['java', '-version'], stderr=subprocess.STDOUT)\n",
    "        output = output.decode().strip().split('\\n')[0]  # Extracting the first line\n",
    "        version = output.split()[2].replace('\"', '')\n",
    "        return version\n",
    "    except Exception as e:\n",
    "        print(\"Error:\", e)\n",
    "        return None\n",
    "\n",
    "java_version = get_java_version()\n",
    "print(\"Java version:\", java_version)"
   ]
  },
  {
   "cell_type": "code",
   "execution_count": 23,
   "id": "88a3a359-f171-4af6-980d-5c4a13145170",
   "metadata": {},
   "outputs": [],
   "source": [
    "spark.sparkContext.stop()"
   ]
  },
  {
   "cell_type": "code",
   "execution_count": null,
   "id": "e45f618f-48c9-42ef-9fa5-bc2b55602a73",
   "metadata": {},
   "outputs": [],
   "source": []
  },
  {
   "cell_type": "code",
   "execution_count": null,
   "id": "7353259c-5772-4547-9d18-fc1ca6ed851f",
   "metadata": {},
   "outputs": [],
   "source": []
  }
 ],
 "metadata": {
  "kernelspec": {
   "display_name": "Python 3 (ipykernel)",
   "language": "python",
   "name": "python3"
  },
  "language_info": {
   "codemirror_mode": {
    "name": "ipython",
    "version": 3
   },
   "file_extension": ".py",
   "mimetype": "text/x-python",
   "name": "python",
   "nbconvert_exporter": "python",
   "pygments_lexer": "ipython3",
   "version": "3.11.7"
  }
 },
 "nbformat": 4,
 "nbformat_minor": 5
}
